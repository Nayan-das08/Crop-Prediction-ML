{
 "cells": [
  {
   "cell_type": "markdown",
   "metadata": {},
   "source": [
    "## Curvilinear Regression on Crop Yield Prediciton"
   ]
  },
  {
   "cell_type": "code",
   "execution_count": 2,
   "metadata": {},
   "outputs": [],
   "source": [
    "import pandas as pd\n",
    "import matplotlib.pyplot as plt\n",
    "import regression as reg\n",
    "from sklearn.linear_model import LinearRegression\n",
    "from sklearn.model_selection import train_test_split\n",
    "import numpy as np"
   ]
  },
  {
   "cell_type": "code",
   "execution_count": 4,
   "metadata": {},
   "outputs": [
    {
     "data": {
      "text/html": [
       "<div>\n",
       "<style scoped>\n",
       "    .dataframe tbody tr th:only-of-type {\n",
       "        vertical-align: middle;\n",
       "    }\n",
       "\n",
       "    .dataframe tbody tr th {\n",
       "        vertical-align: top;\n",
       "    }\n",
       "\n",
       "    .dataframe thead th {\n",
       "        text-align: right;\n",
       "    }\n",
       "</style>\n",
       "<table border=\"1\" class=\"dataframe\">\n",
       "  <thead>\n",
       "    <tr style=\"text-align: right;\">\n",
       "      <th></th>\n",
       "      <th>State_Name</th>\n",
       "      <th>District_Name</th>\n",
       "      <th>Crop_Year</th>\n",
       "      <th>Season</th>\n",
       "      <th>Crop</th>\n",
       "      <th>Area</th>\n",
       "      <th>Production</th>\n",
       "    </tr>\n",
       "  </thead>\n",
       "  <tbody>\n",
       "    <tr>\n",
       "      <th>0</th>\n",
       "      <td>Andaman and Nicobar Islands</td>\n",
       "      <td>NICOBARS</td>\n",
       "      <td>2000</td>\n",
       "      <td>Kharif</td>\n",
       "      <td>Arecanut</td>\n",
       "      <td>1254.0</td>\n",
       "      <td>2000.0</td>\n",
       "    </tr>\n",
       "    <tr>\n",
       "      <th>1</th>\n",
       "      <td>Andaman and Nicobar Islands</td>\n",
       "      <td>NICOBARS</td>\n",
       "      <td>2000</td>\n",
       "      <td>Kharif</td>\n",
       "      <td>Other Kharif pulses</td>\n",
       "      <td>2.0</td>\n",
       "      <td>1.0</td>\n",
       "    </tr>\n",
       "    <tr>\n",
       "      <th>2</th>\n",
       "      <td>Andaman and Nicobar Islands</td>\n",
       "      <td>NICOBARS</td>\n",
       "      <td>2000</td>\n",
       "      <td>Kharif</td>\n",
       "      <td>Rice</td>\n",
       "      <td>102.0</td>\n",
       "      <td>321.0</td>\n",
       "    </tr>\n",
       "    <tr>\n",
       "      <th>3</th>\n",
       "      <td>Andaman and Nicobar Islands</td>\n",
       "      <td>NICOBARS</td>\n",
       "      <td>2000</td>\n",
       "      <td>Whole Year</td>\n",
       "      <td>Banana</td>\n",
       "      <td>176.0</td>\n",
       "      <td>641.0</td>\n",
       "    </tr>\n",
       "    <tr>\n",
       "      <th>4</th>\n",
       "      <td>Andaman and Nicobar Islands</td>\n",
       "      <td>NICOBARS</td>\n",
       "      <td>2000</td>\n",
       "      <td>Whole Year</td>\n",
       "      <td>Cashewnut</td>\n",
       "      <td>720.0</td>\n",
       "      <td>165.0</td>\n",
       "    </tr>\n",
       "  </tbody>\n",
       "</table>\n",
       "</div>"
      ],
      "text/plain": [
       "                    State_Name District_Name  Crop_Year       Season  \\\n",
       "0  Andaman and Nicobar Islands      NICOBARS       2000  Kharif        \n",
       "1  Andaman and Nicobar Islands      NICOBARS       2000  Kharif        \n",
       "2  Andaman and Nicobar Islands      NICOBARS       2000  Kharif        \n",
       "3  Andaman and Nicobar Islands      NICOBARS       2000  Whole Year    \n",
       "4  Andaman and Nicobar Islands      NICOBARS       2000  Whole Year    \n",
       "\n",
       "                  Crop    Area  Production  \n",
       "0             Arecanut  1254.0      2000.0  \n",
       "1  Other Kharif pulses     2.0         1.0  \n",
       "2                 Rice   102.0       321.0  \n",
       "3               Banana   176.0       641.0  \n",
       "4            Cashewnut   720.0       165.0  "
      ]
     },
     "execution_count": 4,
     "metadata": {},
     "output_type": "execute_result"
    }
   ],
   "source": [
    "data = pd.read_csv(\"apy.csv\")\n",
    "data.head()"
   ]
  },
  {
   "cell_type": "code",
   "execution_count": 5,
   "metadata": {},
   "outputs": [
    {
     "data": {
      "text/plain": [
       "<matplotlib.collections.PathCollection at 0x2a000c3e8b0>"
      ]
     },
     "execution_count": 5,
     "metadata": {},
     "output_type": "execute_result"
    },
    {
     "data": {
      "image/png": "[encoded data removed]",
      "text/plain": [
       "<Figure size 432x288 with 1 Axes>"
      ]
     },
     "metadata": {
      "needs_background": "light"
     },
     "output_type": "display_data"
    }
   ],
   "source": [
    "plt.scatter(data['Season'], data['Production'])"
   ]
  },
  {
   "cell_type": "code",
   "execution_count": 6,
   "metadata": {},
   "outputs": [
    {
     "data": {
      "text/plain": [
       "(246091, 7)"
      ]
     },
     "execution_count": 6,
     "metadata": {},
     "output_type": "execute_result"
    }
   ],
   "source": [
    "data.shape"
   ]
  },
  {
   "cell_type": "code",
   "execution_count": 7,
   "metadata": {},
   "outputs": [
    {
     "data": {
      "text/html": [
       "<div>\n",
       "<style scoped>\n",
       "    .dataframe tbody tr th:only-of-type {\n",
       "        vertical-align: middle;\n",
       "    }\n",
       "\n",
       "    .dataframe tbody tr th {\n",
       "        vertical-align: top;\n",
       "    }\n",
       "\n",
       "    .dataframe thead th {\n",
       "        text-align: right;\n",
       "    }\n",
       "</style>\n",
       "<table border=\"1\" class=\"dataframe\">\n",
       "  <thead>\n",
       "    <tr style=\"text-align: right;\">\n",
       "      <th></th>\n",
       "      <th>Area</th>\n",
       "      <th>Production</th>\n",
       "    </tr>\n",
       "  </thead>\n",
       "  <tbody>\n",
       "    <tr>\n",
       "      <th>0</th>\n",
       "      <td>1254.0</td>\n",
       "      <td>2000.0</td>\n",
       "    </tr>\n",
       "    <tr>\n",
       "      <th>1</th>\n",
       "      <td>2.0</td>\n",
       "      <td>1.0</td>\n",
       "    </tr>\n",
       "    <tr>\n",
       "      <th>2</th>\n",
       "      <td>102.0</td>\n",
       "      <td>321.0</td>\n",
       "    </tr>\n",
       "    <tr>\n",
       "      <th>3</th>\n",
       "      <td>176.0</td>\n",
       "      <td>641.0</td>\n",
       "    </tr>\n",
       "    <tr>\n",
       "      <th>4</th>\n",
       "      <td>720.0</td>\n",
       "      <td>165.0</td>\n",
       "    </tr>\n",
       "  </tbody>\n",
       "</table>\n",
       "</div>"
      ],
      "text/plain": [
       "     Area  Production\n",
       "0  1254.0      2000.0\n",
       "1     2.0         1.0\n",
       "2   102.0       321.0\n",
       "3   176.0       641.0\n",
       "4   720.0       165.0"
      ]
     },
     "execution_count": 7,
     "metadata": {},
     "output_type": "execute_result"
    }
   ],
   "source": [
    "df = data.drop(columns={'State_Name', 'District_Name', 'Crop_Year', 'Season', 'Crop'}, axis=1)\n",
    "df.dropna(inplace=True)\n",
    "df.head()"
   ]
  },
  {
   "cell_type": "code",
   "execution_count": 8,
   "metadata": {},
   "outputs": [
    {
     "data": {
      "text/plain": [
       "<AxesSubplot:xlabel='Area', ylabel='Production'>"
      ]
     },
     "execution_count": 8,
     "metadata": {},
     "output_type": "execute_result"
    },
    {
     "data": {
      "image/png": "[encoded data removed]",
      "text/plain": [
       "<Figure size 432x288 with 1 Axes>"
      ]
     },
     "metadata": {
      "needs_background": "light"
     },
     "output_type": "display_data"
    }
   ],
   "source": [
    "df.plot(kind='scatter', x='Area', y='Production')"
   ]
  },
  {
   "cell_type": "code",
   "execution_count": 9,
   "metadata": {},
   "outputs": [
    {
     "data": {
      "text/plain": [
       "<AxesSubplot:xlabel='Area', ylabel='Production'>"
      ]
     },
     "execution_count": 9,
     "metadata": {},
     "output_type": "execute_result"
    },
    {
     "data": {
      "image/png": "[encoded data removed]",
      "text/plain": [
       "<Figure size 432x288 with 1 Axes>"
      ]
     },
     "metadata": {
      "needs_background": "light"
     },
     "output_type": "display_data"
    }
   ],
   "source": [
    "x_end = 0.2e+06\n",
    "df2 = df[df['Area'] < x_end]\n",
    "df2 = df2[df2['Production'] > 0.019e+09]\n",
    "df2.plot(kind='scatter', x='Area', y='Production')"
   ]
  },
  {
   "cell_type": "code",
   "execution_count": 23,
   "metadata": {},
   "outputs": [
    {
     "data": {
      "text/plain": [
       "count    4.340000e+02\n",
       "mean     2.941372e+08\n",
       "std      2.763255e+08\n",
       "min      1.902900e+07\n",
       "25%      5.702876e+07\n",
       "50%      2.015000e+08\n",
       "75%      4.835000e+08\n",
       "max      1.250800e+09\n",
       "Name: Production, dtype: float64"
      ]
     },
     "execution_count": 23,
     "metadata": {},
     "output_type": "execute_result"
    }
   ],
   "source": [
    "df2['Production'].describe()"
   ]
  },
  {
   "cell_type": "code",
   "execution_count": 10,
   "metadata": {},
   "outputs": [
    {
     "data": {
      "text/plain": [
       "(242361, 2)"
      ]
     },
     "execution_count": 10,
     "metadata": {},
     "output_type": "execute_result"
    }
   ],
   "source": [
    "df.shape"
   ]
  },
  {
   "cell_type": "code",
   "execution_count": 11,
   "metadata": {},
   "outputs": [
    {
     "data": {
      "text/plain": [
       "(434, 2)"
      ]
     },
     "execution_count": 11,
     "metadata": {},
     "output_type": "execute_result"
    }
   ],
   "source": [
    "df2.shape"
   ]
  },
  {
   "cell_type": "code",
   "execution_count": 12,
   "metadata": {},
   "outputs": [
    {
     "data": {
      "text/plain": [
       "0.17494563894355938"
      ]
     },
     "execution_count": 12,
     "metadata": {},
     "output_type": "execute_result"
    }
   ],
   "source": [
    "((424)/242361)*100"
   ]
  },
  {
   "cell_type": "code",
   "execution_count": 44,
   "metadata": {},
   "outputs": [],
   "source": [
    "scores = []"
   ]
  },
  {
   "cell_type": "code",
   "execution_count": 141,
   "metadata": {},
   "outputs": [],
   "source": [
    "x_train, x_test, y_train, y_test = train_test_split(df2['Area'], df2['Production'])\n",
    "x_train_df, x_test_df = pd.DataFrame(x_train), pd.DataFrame(x_test)"
   ]
  },
  {
   "cell_type": "code",
   "execution_count": 142,
   "metadata": {},
   "outputs": [],
   "source": [
    "from sklearn.preprocessing import PolynomialFeatures\n",
    "deg = 2\n",
    "poly = PolynomialFeatures(degree=deg)\n",
    "x_train_poly, x_test_poly = poly.fit_transform(x_train_df), poly.fit_transform(x_test_df)   "
   ]
  },
  {
   "cell_type": "code",
   "execution_count": 143,
   "metadata": {},
   "outputs": [
    {
     "data": {
      "text/html": [
       "<div>\n",
       "<style scoped>\n",
       "    .dataframe tbody tr th:only-of-type {\n",
       "        vertical-align: middle;\n",
       "    }\n",
       "\n",
       "    .dataframe tbody tr th {\n",
       "        vertical-align: top;\n",
       "    }\n",
       "\n",
       "    .dataframe thead th {\n",
       "        text-align: right;\n",
       "    }\n",
       "</style>\n",
       "<table border=\"1\" class=\"dataframe\">\n",
       "  <thead>\n",
       "    <tr style=\"text-align: right;\">\n",
       "      <th></th>\n",
       "      <th>Area</th>\n",
       "    </tr>\n",
       "  </thead>\n",
       "  <tbody>\n",
       "    <tr>\n",
       "      <th>101507</th>\n",
       "      <td>84073.00</td>\n",
       "    </tr>\n",
       "    <tr>\n",
       "      <th>101917</th>\n",
       "      <td>87177.00</td>\n",
       "    </tr>\n",
       "    <tr>\n",
       "      <th>98511</th>\n",
       "      <td>43751.00</td>\n",
       "    </tr>\n",
       "    <tr>\n",
       "      <th>99820</th>\n",
       "      <td>52360.00</td>\n",
       "    </tr>\n",
       "    <tr>\n",
       "      <th>7829</th>\n",
       "      <td>7229.00</td>\n",
       "    </tr>\n",
       "    <tr>\n",
       "      <th>...</th>\n",
       "      <td>...</td>\n",
       "    </tr>\n",
       "    <tr>\n",
       "      <th>241972</th>\n",
       "      <td>2895.00</td>\n",
       "    </tr>\n",
       "    <tr>\n",
       "      <th>98351</th>\n",
       "      <td>61034.00</td>\n",
       "    </tr>\n",
       "    <tr>\n",
       "      <th>99395</th>\n",
       "      <td>57057.00</td>\n",
       "    </tr>\n",
       "    <tr>\n",
       "      <th>7985</th>\n",
       "      <td>7045.00</td>\n",
       "    </tr>\n",
       "    <tr>\n",
       "      <th>99763</th>\n",
       "      <td>55303.75</td>\n",
       "    </tr>\n",
       "  </tbody>\n",
       "</table>\n",
       "<p>325 rows × 1 columns</p>\n",
       "</div>"
      ],
      "text/plain": [
       "            Area\n",
       "101507  84073.00\n",
       "101917  87177.00\n",
       "98511   43751.00\n",
       "99820   52360.00\n",
       "7829     7229.00\n",
       "...          ...\n",
       "241972   2895.00\n",
       "98351   61034.00\n",
       "99395   57057.00\n",
       "7985     7045.00\n",
       "99763   55303.75\n",
       "\n",
       "[325 rows x 1 columns]"
      ]
     },
     "execution_count": 143,
     "metadata": {},
     "output_type": "execute_result"
    }
   ],
   "source": [
    "x_train_df"
   ]
  },
  {
   "cell_type": "code",
   "execution_count": 144,
   "metadata": {},
   "outputs": [
    {
     "data": {
      "text/plain": [
       "array([[1.00000000e+00, 8.40730000e+04, 7.06826933e+09],\n",
       "       [1.00000000e+00, 8.71770000e+04, 7.59982933e+09],\n",
       "       [1.00000000e+00, 4.37510000e+04, 1.91415000e+09],\n",
       "       [1.00000000e+00, 5.23600000e+04, 2.74156960e+09],\n",
       "       [1.00000000e+00, 7.22900000e+03, 5.22584410e+07],\n",
       "       [1.00000000e+00, 1.13830000e+04, 1.29572689e+08],\n",
       "       [1.00000000e+00, 6.17190000e+04, 3.80923496e+09],\n",
       "       [1.00000000e+00, 6.37910000e+04, 4.06929168e+09],\n",
       "       [1.00000000e+00, 2.99200000e+03, 8.95206400e+06],\n",
       "       [1.00000000e+00, 8.94720000e+04, 8.00523878e+09],\n",
       "       [1.00000000e+00, 6.64100000e+03, 4.41028810e+07],\n",
       "       [1.00000000e+00, 3.22200000e+03, 1.03812840e+07],\n",
       "       [1.00000000e+00, 5.66750000e+04, 3.21205562e+09],\n",
       "       [1.00000000e+00, 3.62900000e+03, 1.31696410e+07],\n",
       "       [1.00000000e+00, 4.82370000e+04, 2.32680817e+09],\n",
       "       [1.00000000e+00, 1.43580000e+04, 2.06152164e+08],\n",
       "       [1.00000000e+00, 1.72650000e+04, 2.98080225e+08],\n",
       "       [1.00000000e+00, 8.54800000e+04, 7.30683040e+09],\n",
       "       [1.00000000e+00, 1.29865000e+05, 1.68649182e+10],\n",
       "       [1.00000000e+00, 1.27402000e+05, 1.62312696e+10],\n",
       "       [1.00000000e+00, 1.37090000e+04, 1.87936681e+08],\n",
       "       [1.00000000e+00, 7.52800000e+03, 5.66707840e+07],\n",
       "       [1.00000000e+00, 5.06200000e+03, 2.56238440e+07],\n",
       "       [1.00000000e+00, 2.94780000e+04, 8.68952484e+08],\n",
       "       [1.00000000e+00, 2.22870000e+04, 4.96710369e+08],\n",
       "       [1.00000000e+00, 5.09000000e+02, 2.59081000e+05],\n",
       "       [1.00000000e+00, 1.37490000e+04, 1.89035001e+08],\n",
       "       [1.00000000e+00, 9.52570000e+04, 9.07389605e+09],\n",
       "       [1.00000000e+00, 1.56670000e+04, 2.45454889e+08],\n",
       "       [1.00000000e+00, 4.63764300e+04, 2.15077326e+09],\n",
       "       [1.00000000e+00, 5.05000000e+03, 2.55025000e+07],\n",
       "       [1.00000000e+00, 8.51150000e+04, 7.24456322e+09],\n",
       "       [1.00000000e+00, 3.09700000e+03, 9.59140900e+06],\n",
       "       [1.00000000e+00, 4.94120000e+04, 2.44154574e+09],\n",
       "       [1.00000000e+00, 3.68800000e+04, 1.36013440e+09],\n",
       "       [1.00000000e+00, 2.42740000e+04, 5.89227076e+08],\n",
       "       [1.00000000e+00, 2.68900000e+03, 7.23072100e+06],\n",
       "       [1.00000000e+00, 1.37440000e+04, 1.88897536e+08],\n",
       "       [1.00000000e+00, 5.47100000e+04, 2.99318410e+09],\n",
       "       [1.00000000e+00, 6.92400000e+03, 4.79417760e+07],\n",
       "       [1.00000000e+00, 2.49360000e+04, 6.21804096e+08],\n",
       "       [1.00000000e+00, 5.60595000e+04, 3.14266754e+09],\n",
       "       [1.00000000e+00, 3.48810000e+04, 1.21668416e+09],\n",
       "       [1.00000000e+00, 1.35760000e+04, 1.84307776e+08],\n",
       "       [1.00000000e+00, 8.11710000e+04, 6.58873124e+09],\n",
       "       [1.00000000e+00, 1.42960000e+04, 2.04375616e+08],\n",
       "       [1.00000000e+00, 5.51200000e+04, 3.03821440e+09],\n",
       "       [1.00000000e+00, 5.86210000e+04, 3.43642164e+09],\n",
       "       [1.00000000e+00, 2.34300000e+03, 5.48964900e+06],\n",
       "       [1.00000000e+00, 3.31750000e+04, 1.10058062e+09],\n",
       "       [1.00000000e+00, 4.91600000e+03, 2.41670560e+07],\n",
       "       [1.00000000e+00, 7.05400000e+03, 4.97589160e+07],\n",
       "       [1.00000000e+00, 6.18360000e+04, 3.82369090e+09],\n",
       "       [1.00000000e+00, 5.59820000e+04, 3.13398432e+09],\n",
       "       [1.00000000e+00, 2.26960000e+04, 5.15108416e+08],\n",
       "       [1.00000000e+00, 2.12900000e+03, 4.53264100e+06],\n",
       "       [1.00000000e+00, 2.09100000e+03, 4.37228100e+06],\n",
       "       [1.00000000e+00, 5.87350000e+04, 3.44980022e+09],\n",
       "       [1.00000000e+00, 2.27940000e+04, 5.19566436e+08],\n",
       "       [1.00000000e+00, 3.15400000e+03, 9.94771600e+06],\n",
       "       [1.00000000e+00, 6.96684400e+04, 4.85369153e+09],\n",
       "       [1.00000000e+00, 5.05680000e+04, 2.55712262e+09],\n",
       "       [1.00000000e+00, 2.20930000e+04, 4.88100649e+08],\n",
       "       [1.00000000e+00, 8.58070000e+04, 7.36284125e+09],\n",
       "       [1.00000000e+00, 5.70941100e+04, 3.25973740e+09],\n",
       "       [1.00000000e+00, 5.90760000e+04, 3.48997378e+09],\n",
       "       [1.00000000e+00, 1.03691000e+05, 1.07518235e+10],\n",
       "       [1.00000000e+00, 9.84400000e+03, 9.69043360e+07],\n",
       "       [1.00000000e+00, 1.29500000e+05, 1.67702500e+10],\n",
       "       [1.00000000e+00, 8.83070000e+04, 7.79812625e+09],\n",
       "       [1.00000000e+00, 8.63900000e+03, 7.46323210e+07],\n",
       "       [1.00000000e+00, 1.44570000e+04, 2.09004849e+08],\n",
       "       [1.00000000e+00, 1.58030000e+04, 2.49734809e+08],\n",
       "       [1.00000000e+00, 1.42280000e+04, 2.02435984e+08],\n",
       "       [1.00000000e+00, 1.36450000e+04, 1.86186025e+08],\n",
       "       [1.00000000e+00, 3.22400000e+03, 1.03941760e+07],\n",
       "       [1.00000000e+00, 3.69860000e+04, 1.36796420e+09],\n",
       "       [1.00000000e+00, 7.80240000e+04, 6.08774458e+09],\n",
       "       [1.00000000e+00, 2.27690000e+04, 5.18427361e+08],\n",
       "       [1.00000000e+00, 5.97750000e+04, 3.57305062e+09],\n",
       "       [1.00000000e+00, 4.39760000e+04, 1.93388858e+09],\n",
       "       [1.00000000e+00, 4.54390000e+04, 2.06470272e+09],\n",
       "       [1.00000000e+00, 1.08430000e+04, 1.17570649e+08],\n",
       "       [1.00000000e+00, 7.30790000e+04, 5.34054024e+09],\n",
       "       [1.00000000e+00, 4.95920000e+04, 2.45936646e+09],\n",
       "       [1.00000000e+00, 2.26640000e+04, 5.13656896e+08],\n",
       "       [1.00000000e+00, 7.01500000e+03, 4.92102250e+07],\n",
       "       [1.00000000e+00, 1.19166000e+05, 1.42005356e+10],\n",
       "       [1.00000000e+00, 7.67530000e+04, 5.89102301e+09],\n",
       "       [1.00000000e+00, 1.24819000e+05, 1.55797828e+10],\n",
       "       [1.00000000e+00, 3.88590000e+04, 1.51002188e+09],\n",
       "       [1.00000000e+00, 5.72850000e+04, 3.28157122e+09],\n",
       "       [1.00000000e+00, 8.32210000e+04, 6.92573484e+09],\n",
       "       [1.00000000e+00, 2.38110000e+04, 5.66963721e+08],\n",
       "       [1.00000000e+00, 6.13090000e+04, 3.75879348e+09],\n",
       "       [1.00000000e+00, 1.13162000e+05, 1.28056382e+10],\n",
       "       [1.00000000e+00, 1.30100000e+05, 1.69260100e+10],\n",
       "       [1.00000000e+00, 1.28739000e+05, 1.65737301e+10],\n",
       "       [1.00000000e+00, 8.45310000e+04, 7.14548996e+09],\n",
       "       [1.00000000e+00, 5.32070000e+04, 2.83098485e+09],\n",
       "       [1.00000000e+00, 2.82088400e+04, 7.95738654e+08],\n",
       "       [1.00000000e+00, 9.13620000e+04, 8.34701504e+09],\n",
       "       [1.00000000e+00, 7.23000000e+03, 5.22729000e+07],\n",
       "       [1.00000000e+00, 5.54070000e+04, 3.06993565e+09],\n",
       "       [1.00000000e+00, 2.36960000e+04, 5.61500416e+08],\n",
       "       [1.00000000e+00, 2.18680000e+04, 4.78209424e+08],\n",
       "       [1.00000000e+00, 1.29401000e+05, 1.67446188e+10],\n",
       "       [1.00000000e+00, 2.87700000e+03, 8.27712900e+06],\n",
       "       [1.00000000e+00, 4.78700000e+03, 2.29153690e+07],\n",
       "       [1.00000000e+00, 3.46500000e+03, 1.20062250e+07],\n",
       "       [1.00000000e+00, 5.63250000e+04, 3.17250562e+09],\n",
       "       [1.00000000e+00, 1.66320000e+04, 2.76623424e+08],\n",
       "       [1.00000000e+00, 6.61530000e+04, 4.37621941e+09],\n",
       "       [1.00000000e+00, 1.46150000e+04, 2.13598225e+08],\n",
       "       [1.00000000e+00, 5.85530000e+04, 3.42845381e+09],\n",
       "       [1.00000000e+00, 4.32720000e+04, 1.87246598e+09],\n",
       "       [1.00000000e+00, 1.57810000e+04, 2.49039961e+08],\n",
       "       [1.00000000e+00, 6.99200000e+03, 4.88880640e+07],\n",
       "       [1.00000000e+00, 7.37700000e+03, 5.44201290e+07],\n",
       "       [1.00000000e+00, 1.04178220e+05, 1.08531015e+10],\n",
       "       [1.00000000e+00, 1.56210000e+04, 2.44015641e+08],\n",
       "       [1.00000000e+00, 7.02330000e+04, 4.93267429e+09],\n",
       "       [1.00000000e+00, 1.23115000e+05, 1.51573032e+10],\n",
       "       [1.00000000e+00, 6.25130000e+04, 3.90787517e+09],\n",
       "       [1.00000000e+00, 5.03600000e+03, 2.53612960e+07],\n",
       "       [1.00000000e+00, 7.75090000e+04, 6.00764508e+09],\n",
       "       [1.00000000e+00, 1.82400000e+04, 3.32697600e+08],\n",
       "       [1.00000000e+00, 1.19200000e+03, 1.42086400e+06],\n",
       "       [1.00000000e+00, 6.75310000e+04, 4.56043596e+09],\n",
       "       [1.00000000e+00, 1.88900000e+03, 3.56832100e+06],\n",
       "       [1.00000000e+00, 5.84800000e+03, 3.41991040e+07],\n",
       "       [1.00000000e+00, 4.93810000e+04, 2.43848316e+09],\n",
       "       [1.00000000e+00, 1.09582000e+05, 1.20082147e+10],\n",
       "       [1.00000000e+00, 7.24730000e+04, 5.25233573e+09],\n",
       "       [1.00000000e+00, 2.00800000e+03, 4.03206400e+06],\n",
       "       [1.00000000e+00, 1.61845600e+04, 2.61939982e+08],\n",
       "       [1.00000000e+00, 1.55500000e+04, 2.41802500e+08],\n",
       "       [1.00000000e+00, 9.57120000e+04, 9.16078694e+09],\n",
       "       [1.00000000e+00, 7.16750000e+04, 5.13730562e+09],\n",
       "       [1.00000000e+00, 3.66300000e+03, 1.34175690e+07],\n",
       "       [1.00000000e+00, 7.69167600e+04, 5.91618797e+09],\n",
       "       [1.00000000e+00, 1.81680000e+04, 3.30076224e+08],\n",
       "       [1.00000000e+00, 2.56030000e+04, 6.55513609e+08],\n",
       "       [1.00000000e+00, 7.13760000e+04, 5.09453338e+09],\n",
       "       [1.00000000e+00, 7.14235100e+04, 5.10131778e+09],\n",
       "       [1.00000000e+00, 6.15500000e+03, 3.78840250e+07],\n",
       "       [1.00000000e+00, 8.68180000e+04, 7.53736512e+09],\n",
       "       [1.00000000e+00, 6.48700000e+03, 4.20811690e+07],\n",
       "       [1.00000000e+00, 9.92760000e+04, 9.85572418e+09],\n",
       "       [1.00000000e+00, 1.12270000e+04, 1.26045529e+08],\n",
       "       [1.00000000e+00, 5.61737500e+04, 3.15549019e+09],\n",
       "       [1.00000000e+00, 2.43830000e+04, 5.94530689e+08],\n",
       "       [1.00000000e+00, 6.05286000e+04, 3.66371142e+09],\n",
       "       [1.00000000e+00, 1.02417000e+05, 1.04892419e+10],\n",
       "       [1.00000000e+00, 1.08380000e+05, 1.17462244e+10],\n",
       "       [1.00000000e+00, 2.05300000e+03, 4.21480900e+06],\n",
       "       [1.00000000e+00, 1.91160000e+04, 3.65421456e+08],\n",
       "       [1.00000000e+00, 1.83947000e+04, 3.38364988e+08],\n",
       "       [1.00000000e+00, 4.20200000e+03, 1.76568040e+07],\n",
       "       [1.00000000e+00, 1.09470000e+04, 1.19836809e+08],\n",
       "       [1.00000000e+00, 1.66550000e+04, 2.77389025e+08],\n",
       "       [1.00000000e+00, 2.36680000e+04, 5.60174224e+08],\n",
       "       [1.00000000e+00, 1.38765700e+04, 1.92559195e+08],\n",
       "       [1.00000000e+00, 8.22230000e+04, 6.76062173e+09],\n",
       "       [1.00000000e+00, 1.12490000e+04, 1.26540001e+08],\n",
       "       [1.00000000e+00, 3.51610000e+04, 1.23629592e+09],\n",
       "       [1.00000000e+00, 3.91000000e+03, 1.52881000e+07],\n",
       "       [1.00000000e+00, 2.14440000e+04, 4.59845136e+08],\n",
       "       [1.00000000e+00, 6.03930000e+04, 3.64731445e+09],\n",
       "       [1.00000000e+00, 6.12700000e+04, 3.75401290e+09],\n",
       "       [1.00000000e+00, 2.02600000e+03, 4.10467600e+06],\n",
       "       [1.00000000e+00, 4.85960000e+04, 2.36157122e+09],\n",
       "       [1.00000000e+00, 1.13370000e+04, 1.28527569e+08],\n",
       "       [1.00000000e+00, 1.42410000e+04, 2.02806081e+08],\n",
       "       [1.00000000e+00, 1.38120000e+04, 1.90771344e+08],\n",
       "       [1.00000000e+00, 4.58570000e+04, 2.10286445e+09],\n",
       "       [1.00000000e+00, 5.78110000e+04, 3.34211172e+09],\n",
       "       [1.00000000e+00, 1.70115800e+04, 2.89393854e+08],\n",
       "       [1.00000000e+00, 3.62040000e+04, 1.31072962e+09],\n",
       "       [1.00000000e+00, 8.21300000e+03, 6.74533690e+07],\n",
       "       [1.00000000e+00, 4.95160000e+04, 2.45183426e+09],\n",
       "       [1.00000000e+00, 2.16570000e+04, 4.69025649e+08],\n",
       "       [1.00000000e+00, 5.02300000e+03, 2.52305290e+07],\n",
       "       [1.00000000e+00, 1.46360000e+04, 2.14212496e+08],\n",
       "       [1.00000000e+00, 8.64760000e+04, 7.47809858e+09],\n",
       "       [1.00000000e+00, 3.35100000e+03, 1.12292010e+07],\n",
       "       [1.00000000e+00, 1.11550000e+04, 1.24434025e+08],\n",
       "       [1.00000000e+00, 3.93437100e+04, 1.54792752e+09],\n",
       "       [1.00000000e+00, 7.41600000e+03, 5.49970560e+07],\n",
       "       [1.00000000e+00, 5.80880000e+04, 3.37421574e+09],\n",
       "       [1.00000000e+00, 7.05045000e+03, 4.97088452e+07],\n",
       "       [1.00000000e+00, 2.17290000e+04, 4.72149441e+08],\n",
       "       [1.00000000e+00, 5.42240000e+04, 2.94024218e+09],\n",
       "       [1.00000000e+00, 5.61830000e+04, 3.15652949e+09],\n",
       "       [1.00000000e+00, 1.82847400e+04, 3.34331717e+08],\n",
       "       [1.00000000e+00, 8.40780000e+04, 7.06911008e+09],\n",
       "       [1.00000000e+00, 5.71700000e+03, 3.26840890e+07],\n",
       "       [1.00000000e+00, 3.69200000e+03, 1.36308640e+07],\n",
       "       [1.00000000e+00, 5.14780000e+04, 2.64998448e+09],\n",
       "       [1.00000000e+00, 3.92860000e+04, 1.54338980e+09],\n",
       "       [1.00000000e+00, 7.13100000e+04, 5.08511610e+09],\n",
       "       [1.00000000e+00, 6.73100000e+03, 4.53063610e+07],\n",
       "       [1.00000000e+00, 1.10980000e+04, 1.23165604e+08],\n",
       "       [1.00000000e+00, 1.13680000e+04, 1.29231424e+08],\n",
       "       [1.00000000e+00, 1.82900000e+03, 3.34524100e+06],\n",
       "       [1.00000000e+00, 2.63000000e+03, 6.91690000e+06],\n",
       "       [1.00000000e+00, 9.94800000e+03, 9.89627040e+07],\n",
       "       [1.00000000e+00, 1.17250000e+04, 1.37475625e+08],\n",
       "       [1.00000000e+00, 4.30700000e+03, 1.85502490e+07],\n",
       "       [1.00000000e+00, 6.92800000e+03, 4.79971840e+07],\n",
       "       [1.00000000e+00, 5.64840000e+04, 3.19044226e+09],\n",
       "       [1.00000000e+00, 1.45900000e+04, 2.12868100e+08],\n",
       "       [1.00000000e+00, 1.41570000e+04, 2.00420649e+08],\n",
       "       [1.00000000e+00, 5.71860000e+04, 3.27023860e+09],\n",
       "       [1.00000000e+00, 9.52780000e+04, 9.07789728e+09],\n",
       "       [1.00000000e+00, 5.83970000e+04, 3.41020961e+09],\n",
       "       [1.00000000e+00, 5.22660000e+04, 2.73173476e+09],\n",
       "       [1.00000000e+00, 5.56550000e+04, 3.09747902e+09],\n",
       "       [1.00000000e+00, 3.20690000e+04, 1.02842076e+09],\n",
       "       [1.00000000e+00, 1.13411000e+05, 1.28620549e+10],\n",
       "       [1.00000000e+00, 3.89300000e+03, 1.51554490e+07],\n",
       "       [1.00000000e+00, 9.99500000e+03, 9.99000250e+07],\n",
       "       [1.00000000e+00, 3.98160000e+04, 1.58531386e+09],\n",
       "       [1.00000000e+00, 1.99250000e+04, 3.97005625e+08],\n",
       "       [1.00000000e+00, 5.02140000e+04, 2.52144580e+09],\n",
       "       [1.00000000e+00, 5.96559300e+04, 3.55882998e+09],\n",
       "       [1.00000000e+00, 2.13550000e+04, 4.56036025e+08],\n",
       "       [1.00000000e+00, 4.36800000e+04, 1.90794240e+09],\n",
       "       [1.00000000e+00, 1.72600000e+03, 2.97907600e+06],\n",
       "       [1.00000000e+00, 1.65180000e+04, 2.72844324e+08],\n",
       "       [1.00000000e+00, 2.19940000e+04, 4.83736036e+08],\n",
       "       [1.00000000e+00, 1.05700000e+03, 1.11724900e+06],\n",
       "       [1.00000000e+00, 5.79060000e+04, 3.35310484e+09],\n",
       "       [1.00000000e+00, 4.28937900e+04, 1.83987722e+09],\n",
       "       [1.00000000e+00, 1.24800000e+03, 1.55750400e+06],\n",
       "       [1.00000000e+00, 1.27699250e+05, 1.63070985e+10],\n",
       "       [1.00000000e+00, 8.96767900e+04, 8.04192666e+09],\n",
       "       [1.00000000e+00, 7.56140000e+04, 5.71747700e+09],\n",
       "       [1.00000000e+00, 2.17390000e+04, 4.72584121e+08],\n",
       "       [1.00000000e+00, 4.68650000e+04, 2.19632822e+09],\n",
       "       [1.00000000e+00, 1.04731000e+05, 1.09685824e+10],\n",
       "       [1.00000000e+00, 5.79640000e+04, 3.35982530e+09],\n",
       "       [1.00000000e+00, 9.39340000e+04, 8.82359636e+09],\n",
       "       [1.00000000e+00, 2.17640000e+04, 4.73671696e+08],\n",
       "       [1.00000000e+00, 7.99060000e+04, 6.38496884e+09],\n",
       "       [1.00000000e+00, 1.03260000e+04, 1.06626276e+08],\n",
       "       [1.00000000e+00, 7.15670000e+03, 5.12183549e+07],\n",
       "       [1.00000000e+00, 5.90730000e+04, 3.48961933e+09],\n",
       "       [1.00000000e+00, 4.25710000e+04, 1.81229004e+09],\n",
       "       [1.00000000e+00, 1.02000000e+04, 1.04040000e+08],\n",
       "       [1.00000000e+00, 2.76000000e+03, 7.61760000e+06],\n",
       "       [1.00000000e+00, 3.04800000e+03, 9.29030400e+06],\n",
       "       [1.00000000e+00, 2.75000000e+04, 7.56250000e+08],\n",
       "       [1.00000000e+00, 4.05320000e+04, 1.64284302e+09],\n",
       "       [1.00000000e+00, 2.24350000e+04, 5.03329225e+08],\n",
       "       [1.00000000e+00, 2.84103400e+04, 8.07147419e+08],\n",
       "       [1.00000000e+00, 5.82360000e+04, 3.39143170e+09],\n",
       "       [1.00000000e+00, 1.54330000e+04, 2.38177489e+08],\n",
       "       [1.00000000e+00, 3.24200000e+03, 1.05105640e+07],\n",
       "       [1.00000000e+00, 1.81900000e+04, 3.30876100e+08],\n",
       "       [1.00000000e+00, 3.08400000e+03, 9.51105600e+06],\n",
       "       [1.00000000e+00, 4.16040000e+04, 1.73089282e+09],\n",
       "       [1.00000000e+00, 1.71890000e+04, 2.95461721e+08],\n",
       "       [1.00000000e+00, 1.56060000e+04, 2.43547236e+08],\n",
       "       [1.00000000e+00, 8.55060000e+04, 7.31127604e+09],\n",
       "       [1.00000000e+00, 8.86630000e+04, 7.86112757e+09],\n",
       "       [1.00000000e+00, 2.13750000e+04, 4.56890625e+08],\n",
       "       [1.00000000e+00, 2.54900000e+03, 6.49740100e+06],\n",
       "       [1.00000000e+00, 3.52260000e+04, 1.24087108e+09],\n",
       "       [1.00000000e+00, 6.97900000e+03, 4.87064410e+07],\n",
       "       [1.00000000e+00, 6.82500000e+03, 4.65806250e+07],\n",
       "       [1.00000000e+00, 1.21688420e+05, 1.48080716e+10],\n",
       "       [1.00000000e+00, 1.38110000e+04, 1.90743721e+08],\n",
       "       [1.00000000e+00, 3.19500000e+03, 1.02080250e+07],\n",
       "       [1.00000000e+00, 5.70470000e+04, 3.25436021e+09],\n",
       "       [1.00000000e+00, 3.43500000e+03, 1.17992250e+07],\n",
       "       [1.00000000e+00, 1.99070000e+04, 3.96288649e+08],\n",
       "       [1.00000000e+00, 3.04800000e+03, 9.29030400e+06],\n",
       "       [1.00000000e+00, 1.11200000e+03, 1.23654400e+06],\n",
       "       [1.00000000e+00, 2.15120000e+04, 4.62766144e+08],\n",
       "       [1.00000000e+00, 6.01820000e+04, 3.62187312e+09],\n",
       "       [1.00000000e+00, 1.30560000e+04, 1.70459136e+08],\n",
       "       [1.00000000e+00, 2.58100000e+04, 6.66156100e+08],\n",
       "       [1.00000000e+00, 2.01960000e+04, 4.07878416e+08],\n",
       "       [1.00000000e+00, 5.62360000e+04, 3.16248770e+09],\n",
       "       [1.00000000e+00, 1.20704000e+05, 1.45694556e+10],\n",
       "       [1.00000000e+00, 5.03600000e+03, 2.53612960e+07],\n",
       "       [1.00000000e+00, 9.03504800e+04, 8.16320924e+09],\n",
       "       [1.00000000e+00, 3.22300000e+03, 1.03877290e+07],\n",
       "       [1.00000000e+00, 1.53400000e+03, 2.35315600e+06],\n",
       "       [1.00000000e+00, 1.05000000e+03, 1.10250000e+06],\n",
       "       [1.00000000e+00, 5.03500000e+03, 2.53512250e+07],\n",
       "       [1.00000000e+00, 1.78000000e+03, 3.16840000e+06],\n",
       "       [1.00000000e+00, 6.10160000e+04, 3.72295226e+09],\n",
       "       [1.00000000e+00, 2.39170000e+04, 5.72022889e+08],\n",
       "       [1.00000000e+00, 7.46600000e+03, 5.57411560e+07],\n",
       "       [1.00000000e+00, 2.05510000e+04, 4.22343601e+08],\n",
       "       [1.00000000e+00, 1.16900000e+03, 1.36656100e+06],\n",
       "       [1.00000000e+00, 2.41120000e+04, 5.81388544e+08],\n",
       "       [1.00000000e+00, 2.67800000e+03, 7.17168400e+06],\n",
       "       [1.00000000e+00, 1.22929000e+05, 1.51115390e+10],\n",
       "       [1.00000000e+00, 3.85400000e+03, 1.48533160e+07],\n",
       "       [1.00000000e+00, 2.34300000e+03, 5.48964900e+06],\n",
       "       [1.00000000e+00, 7.79300000e+03, 6.07308490e+07],\n",
       "       [1.00000000e+00, 6.06870000e+04, 3.68291197e+09],\n",
       "       [1.00000000e+00, 2.76360000e+04, 7.63748496e+08],\n",
       "       [1.00000000e+00, 5.61540000e+04, 3.15327172e+09],\n",
       "       [1.00000000e+00, 4.94790000e+04, 2.44817144e+09],\n",
       "       [1.00000000e+00, 2.25640000e+04, 5.09134096e+08],\n",
       "       [1.00000000e+00, 6.64800000e+03, 4.41959040e+07],\n",
       "       [1.00000000e+00, 3.37420000e+04, 1.13852256e+09],\n",
       "       [1.00000000e+00, 1.07254000e+05, 1.15034205e+10],\n",
       "       [1.00000000e+00, 1.77760000e+04, 3.15986176e+08],\n",
       "       [1.00000000e+00, 1.09229360e+05, 1.19310531e+10],\n",
       "       [1.00000000e+00, 4.14240000e+04, 1.71594778e+09],\n",
       "       [1.00000000e+00, 9.69750000e+04, 9.40415062e+09],\n",
       "       [1.00000000e+00, 1.62130000e+04, 2.62861369e+08],\n",
       "       [1.00000000e+00, 2.43430000e+04, 5.92581649e+08],\n",
       "       [1.00000000e+00, 7.74630000e+04, 6.00051637e+09],\n",
       "       [1.00000000e+00, 1.00433400e+04, 1.00868678e+08],\n",
       "       [1.00000000e+00, 2.89500000e+03, 8.38102500e+06],\n",
       "       [1.00000000e+00, 6.10340000e+04, 3.72514916e+09],\n",
       "       [1.00000000e+00, 5.70570000e+04, 3.25550125e+09],\n",
       "       [1.00000000e+00, 7.04500000e+03, 4.96320250e+07],\n",
       "       [1.00000000e+00, 5.53037500e+04, 3.05850476e+09]])"
      ]
     },
     "execution_count": 144,
     "metadata": {},
     "output_type": "execute_result"
    }
   ],
   "source": [
    "x_train_poly"
   ]
  },
  {
   "cell_type": "code",
   "execution_count": 145,
   "metadata": {},
   "outputs": [],
   "source": [
    "from sklearn import linear_model\n",
    "model = linear_model.LinearRegression()\n",
    "model = model.fit(x_train_poly, y_train)\n",
    "coeff = model.coef_\n",
    "intercept = model.intercept_"
   ]
  },
  {
   "cell_type": "code",
   "execution_count": 146,
   "metadata": {},
   "outputs": [
    {
     "data": {
      "text/plain": [
       "array([0.00000000e+00, 7.00504922e+03, 7.46940993e-04])"
      ]
     },
     "execution_count": 146,
     "metadata": {},
     "output_type": "execute_result"
    }
   ],
   "source": [
    "coeff"
   ]
  },
  {
   "cell_type": "code",
   "execution_count": 162,
   "metadata": {},
   "outputs": [
    {
     "data": {
      "text/plain": [
       "Text(0, 0.5, 'Production (tonne)')"
      ]
     },
     "execution_count": 162,
     "metadata": {},
     "output_type": "execute_result"
    },
    {
     "data": {
      "image/png": "[encoded data removed]",
      "text/plain": [
       "<Figure size 432x288 with 1 Axes>"
      ]
     },
     "metadata": {
      "needs_background": "light"
     },
     "output_type": "display_data"
    }
   ],
   "source": [
    "y_pred = intercept\n",
    "#y_pred = intercept + coeff[1]*x_test + coeff[2]*(x_test**2)\n",
    "for i in range(deg):\n",
    "    y_pred += coeff[i+1]*np.power(x_test, i+1)\n",
    "\n",
    "plt.plot(x_test, y_pred, label='regression', color='r')\n",
    "plt.scatter(df2['Area'],df2['Production'], label='test data')\n",
    "#plt.scatter(x_test, y_test, label='test data')\n",
    "plt.legend()\n",
    "plt.xlabel(\"Area Under Cultivation (hectare)\")\n",
    "plt.ylabel(\"Production (tonne)\")"
   ]
  },
  {
   "cell_type": "code",
   "execution_count": 148,
   "metadata": {
    "scrolled": true
   },
   "outputs": [
    {
     "data": {
      "text/plain": [
       "<matplotlib.legend.Legend at 0x2a002f1a880>"
      ]
     },
     "execution_count": 148,
     "metadata": {},
     "output_type": "execute_result"
    },
    {
     "data": {
      "image/png": "[encoded data removed]",
      "text/plain": [
       "<Figure size 432x288 with 1 Axes>"
      ]
     },
     "metadata": {
      "needs_background": "light"
     },
     "output_type": "display_data"
    }
   ],
   "source": [
    "y_pred2 = model.predict(x_test_poly)\n",
    "plt.plot(x_test, y_pred2, label='regression', color='r')\n",
    "plt.scatter(df2['Area'],df2['Production'], label='test data')\n",
    "plt.legend()"
   ]
  },
  {
   "cell_type": "code",
   "execution_count": 149,
   "metadata": {},
   "outputs": [],
   "source": [
    "model.score(x_test_poly,y_test)\n",
    "scores.append(model.score(x_test_poly,y_test))"
   ]
  },
  {
   "cell_type": "code",
   "execution_count": 150,
   "metadata": {},
   "outputs": [
    {
     "data": {
      "text/plain": [
       "0.8373279868632785"
      ]
     },
     "execution_count": 150,
     "metadata": {},
     "output_type": "execute_result"
    }
   ],
   "source": [
    "model.score(x_test_poly,y_test)"
   ]
  },
  {
   "cell_type": "code",
   "execution_count": 151,
   "metadata": {},
   "outputs": [
    {
     "data": {
      "text/plain": [
       "[0.8499439792023036,\n",
       " 0.7468368981750211,\n",
       " 0.8357942254022316,\n",
       " 0.842522259859045,\n",
       " 0.8884536439951308,\n",
       " 0.8733564579874827,\n",
       " 0.7522903950247589,\n",
       " 0.8142933486102428,\n",
       " 0.7812612967595511,\n",
       " 0.8373279868632785]"
      ]
     },
     "execution_count": 151,
     "metadata": {},
     "output_type": "execute_result"
    }
   ],
   "source": [
    "scores"
   ]
  },
  {
   "cell_type": "code",
   "execution_count": 161,
   "metadata": {},
   "outputs": [
    {
     "data": {
      "text/plain": [
       "0.8222080491879048"
      ]
     },
     "execution_count": 161,
     "metadata": {},
     "output_type": "execute_result"
    }
   ],
   "source": [
    "import math\n",
    "sum(scores)/len(scores)"
   ]
  }
 ],
 "metadata": {
  "interpreter": {
   "hash": "cd764cb75906b4618444324e3b8695ad5c84ed64f2b5b7a1b2895179f9f37c0f"
  },
  "kernelspec": {
   "display_name": "Python 3 (ipykernel)",
   "language": "python",
   "name": "python3"
  },
  "language_info": {
   "codemirror_mode": {
    "name": "ipython",
    "version": 3
   },
   "file_extension": ".py",
   "mimetype": "text/x-python",
   "name": "python",
   "nbconvert_exporter": "python",
   "pygments_lexer": "ipython3",
   "version": "3.9.7"
  }
 },
 "nbformat": 4,
 "nbformat_minor": 2
}
